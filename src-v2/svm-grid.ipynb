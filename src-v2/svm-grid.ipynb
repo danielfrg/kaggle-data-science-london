{
 "metadata": {
  "name": "svm-grid"
 },
 "nbformat": 3,
 "nbformat_minor": 0,
 "worksheets": [
  {
   "cells": [
    {
     "cell_type": "code",
     "collapsed": false,
     "input": [
      "import numpy as np\n",
      "import pandas as pd"
     ],
     "language": "python",
     "metadata": {},
     "outputs": [],
     "prompt_number": 1
    },
    {
     "cell_type": "code",
     "collapsed": false,
     "input": [
      "X = pd.read_csv('../data/train_inputs.csv', header=None)"
     ],
     "language": "python",
     "metadata": {},
     "outputs": [],
     "prompt_number": 2
    },
    {
     "cell_type": "code",
     "collapsed": false,
     "input": [
      "y = pd.read_csv('../data/train_labels.csv', header=None)"
     ],
     "language": "python",
     "metadata": {},
     "outputs": [],
     "prompt_number": 3
    },
    {
     "cell_type": "code",
     "collapsed": false,
     "input": [
      "X = X.values"
     ],
     "language": "python",
     "metadata": {},
     "outputs": [],
     "prompt_number": 4
    },
    {
     "cell_type": "code",
     "collapsed": false,
     "input": [
      "y = y[0].values"
     ],
     "language": "python",
     "metadata": {},
     "outputs": [],
     "prompt_number": 5
    },
    {
     "cell_type": "code",
     "collapsed": false,
     "input": [
      "from sklearn.cross_validation import train_test_split"
     ],
     "language": "python",
     "metadata": {},
     "outputs": [],
     "prompt_number": 6
    },
    {
     "cell_type": "code",
     "collapsed": false,
     "input": [
      "X_train, X_test, y_train, y_test = train_test_split(X, y, test_size=0.15, random_state=1234)"
     ],
     "language": "python",
     "metadata": {},
     "outputs": [],
     "prompt_number": 7
    },
    {
     "cell_type": "heading",
     "level": 3,
     "metadata": {},
     "source": [
      "Grid"
     ]
    },
    {
     "cell_type": "code",
     "collapsed": false,
     "input": [
      "from sklearn.svm import SVC"
     ],
     "language": "python",
     "metadata": {},
     "outputs": [],
     "prompt_number": 8
    },
    {
     "cell_type": "code",
     "collapsed": false,
     "input": [
      "from sklearn.grid_search import GridSearchCV"
     ],
     "language": "python",
     "metadata": {},
     "outputs": [],
     "prompt_number": 9
    },
    {
     "cell_type": "code",
     "collapsed": false,
     "input": [
      "svc = SVC(probability=False)"
     ],
     "language": "python",
     "metadata": {},
     "outputs": [],
     "prompt_number": 10
    },
    {
     "cell_type": "code",
     "collapsed": false,
     "input": [
      "parameters = {'kernel': ('linear', 'sigmoid', 'rbf', 'poly'), 'C':[1, 10, 100], 'gamma':[0, 0.0001, 0.001, 0.01, 0.1, 1]}"
     ],
     "language": "python",
     "metadata": {},
     "outputs": [],
     "prompt_number": 12
    },
    {
     "cell_type": "code",
     "collapsed": false,
     "input": [
      "grid = GridSearchCV(svc, parameters, n_jobs=4, cv=4)"
     ],
     "language": "python",
     "metadata": {},
     "outputs": [],
     "prompt_number": 13
    },
    {
     "cell_type": "code",
     "collapsed": false,
     "input": [
      "grid.fit(X_train, y_train)"
     ],
     "language": "python",
     "metadata": {},
     "outputs": [
      {
       "output_type": "pyout",
       "prompt_number": 14,
       "text": [
        "GridSearchCV(cv=4,\n",
        "       estimator=SVC(C=1.0, cache_size=200, class_weight=None, coef0=0.0, degree=3, gamma=0.0,\n",
        "  kernel='rbf', max_iter=-1, probability=False, shrinking=True, tol=0.001,\n",
        "  verbose=False),\n",
        "       fit_params={}, iid=True, loss_func=None, n_jobs=4,\n",
        "       param_grid={'kernel': ('linear', 'sigmoid', 'rbf', 'poly'), 'C': [1, 10, 100], 'gamma': [0, 0.0001, 0.001, 0.01, 0.1, 1]},\n",
        "       pre_dispatch='2*n_jobs', refit=True, score_func=None, verbose=0)"
       ]
      }
     ],
     "prompt_number": 14
    },
    {
     "cell_type": "code",
     "collapsed": false,
     "input": [
      "grid.best_estimator_"
     ],
     "language": "python",
     "metadata": {},
     "outputs": [
      {
       "output_type": "pyout",
       "prompt_number": 15,
       "text": [
        "SVC(C=10, cache_size=200, class_weight=None, coef0=0.0, degree=3, gamma=0,\n",
        "  kernel='rbf', max_iter=-1, probability=False, shrinking=True, tol=0.001,\n",
        "  verbose=False)"
       ]
      }
     ],
     "prompt_number": 15
    },
    {
     "cell_type": "code",
     "collapsed": false,
     "input": [
      "grid.grid_scores_"
     ],
     "language": "python",
     "metadata": {},
     "outputs": [
      {
       "output_type": "pyout",
       "prompt_number": 16,
       "text": [
        "[({'C': 1, 'gamma': 0, 'kernel': 'linear'},\n",
        "  0.82360040747630436,\n",
        "  array([ 0.76056338,  0.82629108,  0.86320755,  0.84433962])),\n",
        " ({'C': 1, 'gamma': 0, 'kernel': 'sigmoid'},\n",
        "  0.50587961732660114,\n",
        "  array([ 0.50704225,  0.50704225,  0.50471698,  0.50471698])),\n",
        " ({'C': 1, 'gamma': 0, 'kernel': 'rbf'},\n",
        "  0.82475750730799902,\n",
        "  array([ 0.77934272,  0.82629108,  0.83962264,  0.85377358])),\n",
        " ({'C': 1, 'gamma': 0, 'kernel': 'poly'},\n",
        "  0.50587961732660114,\n",
        "  array([ 0.50704225,  0.50704225,  0.50471698,  0.50471698])),\n",
        " ({'C': 1, 'gamma': 0.0001, 'kernel': 'linear'},\n",
        "  0.82360040747630436,\n",
        "  array([ 0.76056338,  0.82629108,  0.86320755,  0.84433962])),\n",
        " ({'C': 1, 'gamma': 0.0001, 'kernel': 'sigmoid'},\n",
        "  0.50587961732660114,\n",
        "  array([ 0.50704225,  0.50704225,  0.50471698,  0.50471698])),\n",
        " ({'C': 1, 'gamma': 0.0001, 'kernel': 'rbf'},\n",
        "  0.50587961732660114,\n",
        "  array([ 0.50704225,  0.50704225,  0.50471698,  0.50471698])),\n",
        " ({'C': 1, 'gamma': 0.0001, 'kernel': 'poly'},\n",
        "  0.50587961732660114,\n",
        "  array([ 0.50704225,  0.50704225,  0.50471698,  0.50471698])),\n",
        " ({'C': 1, 'gamma': 0.001, 'kernel': 'linear'},\n",
        "  0.82360040747630436,\n",
        "  array([ 0.76056338,  0.82629108,  0.86320755,  0.84433962])),\n",
        " ({'C': 1, 'gamma': 0.001, 'kernel': 'sigmoid'},\n",
        "  0.50587961732660114,\n",
        "  array([ 0.50704225,  0.50704225,  0.50471698,  0.50471698])),\n",
        " ({'C': 1, 'gamma': 0.001, 'kernel': 'rbf'},\n",
        "  0.50587961732660114,\n",
        "  array([ 0.50704225,  0.50704225,  0.50471698,  0.50471698])),\n",
        " ({'C': 1, 'gamma': 0.001, 'kernel': 'poly'},\n",
        "  0.50587961732660114,\n",
        "  array([ 0.50704225,  0.50704225,  0.50471698,  0.50471698])),\n",
        " ({'C': 1, 'gamma': 0.01, 'kernel': 'linear'},\n",
        "  0.82360040747630436,\n",
        "  array([ 0.76056338,  0.82629108,  0.86320755,  0.84433962])),\n",
        " ({'C': 1, 'gamma': 0.01, 'kernel': 'sigmoid'},\n",
        "  0.50822149880414569,\n",
        "  array([ 0.51643192,  0.51173709,  0.5       ,  0.50471698])),\n",
        " ({'C': 1, 'gamma': 0.01, 'kernel': 'rbf'},\n",
        "  0.81535122685800332,\n",
        "  array([ 0.76056338,  0.82159624,  0.82075472,  0.85849057])),\n",
        " ({'C': 1, 'gamma': 0.01, 'kernel': 'poly'},\n",
        "  0.50587961732660114,\n",
        "  array([ 0.50704225,  0.50704225,  0.50471698,  0.50471698])),\n",
        " ({'C': 1, 'gamma': 0.1, 'kernel': 'linear'},\n",
        "  0.82360040747630436,\n",
        "  array([ 0.76056338,  0.82629108,  0.86320755,  0.84433962])),\n",
        " ({'C': 1, 'gamma': 0.1, 'kernel': 'sigmoid'},\n",
        "  0.80356431039064591,\n",
        "  array([ 0.76525822,  0.81220657,  0.80188679,  0.83490566])),\n",
        " ({'C': 1, 'gamma': 0.1, 'kernel': 'rbf'},\n",
        "  0.83537625121799985,\n",
        "  array([ 0.76995305,  0.83098592,  0.87264151,  0.86792453])),\n",
        " ({'C': 1, 'gamma': 0.1, 'kernel': 'poly'},\n",
        "  0.82831738860837989,\n",
        "  array([ 0.75586854,  0.83098592,  0.86792453,  0.85849057])),\n",
        " ({'C': 10, 'gamma': 0, 'kernel': 'linear'},\n",
        "  0.80714080077951977,\n",
        "  array([ 0.74647887,  0.79812207,  0.83490566,  0.8490566 ])),\n",
        " ({'C': 10, 'gamma': 0, 'kernel': 'sigmoid'},\n",
        "  0.50587961732660114,\n",
        "  array([ 0.50704225,  0.50704225,  0.50471698,  0.50471698])),\n",
        " ({'C': 10, 'gamma': 0, 'kernel': 'rbf'},\n",
        "  0.82830631588271764,\n",
        "  array([ 0.76056338,  0.83568075,  0.86792453,  0.8490566 ])),\n",
        " ({'C': 10, 'gamma': 0, 'kernel': 'poly'},\n",
        "  0.80241274692178222,\n",
        "  array([ 0.75586854,  0.79812207,  0.81603774,  0.83962264])),\n",
        " ({'C': 10, 'gamma': 0.0001, 'kernel': 'linear'},\n",
        "  0.80714080077951977,\n",
        "  array([ 0.74647887,  0.79812207,  0.83490566,  0.8490566 ])),\n",
        " ({'C': 10, 'gamma': 0.0001, 'kernel': 'sigmoid'},\n",
        "  0.50587961732660114,\n",
        "  array([ 0.50704225,  0.50704225,  0.50471698,  0.50471698])),\n",
        " ({'C': 10, 'gamma': 0.0001, 'kernel': 'rbf'},\n",
        "  0.50587961732660114,\n",
        "  array([ 0.50704225,  0.50704225,  0.50471698,  0.50471698])),\n",
        " ({'C': 10, 'gamma': 0.0001, 'kernel': 'poly'},\n",
        "  0.50587961732660114,\n",
        "  array([ 0.50704225,  0.50704225,  0.50471698,  0.50471698])),\n",
        " ({'C': 10, 'gamma': 0.001, 'kernel': 'linear'},\n",
        "  0.80714080077951977,\n",
        "  array([ 0.74647887,  0.79812207,  0.83490566,  0.8490566 ])),\n",
        " ({'C': 10, 'gamma': 0.001, 'kernel': 'sigmoid'},\n",
        "  0.5105689166445212,\n",
        "  array([ 0.51643192,  0.52112676,  0.5       ,  0.50471698])),\n",
        " ({'C': 10, 'gamma': 0.001, 'kernel': 'rbf'},\n",
        "  0.81299273629196556,\n",
        "  array([ 0.76056338,  0.82159624,  0.82075472,  0.8490566 ])),\n",
        " ({'C': 10, 'gamma': 0.001, 'kernel': 'poly'},\n",
        "  0.50587961732660114,\n",
        "  array([ 0.50704225,  0.50704225,  0.50471698,  0.50471698])),\n",
        " ({'C': 10, 'gamma': 0.01, 'kernel': 'linear'},\n",
        "  0.80714080077951977,\n",
        "  array([ 0.74647887,  0.79812207,  0.83490566,  0.8490566 ])),\n",
        " ({'C': 10, 'gamma': 0.01, 'kernel': 'sigmoid'},\n",
        "  0.82594228895384891,\n",
        "  array([ 0.76995305,  0.83098592,  0.84433962,  0.85849057])),\n",
        " ({'C': 10, 'gamma': 0.01, 'kernel': 'rbf'},\n",
        "  0.83537071485516878,\n",
        "  array([ 0.76995305,  0.83568075,  0.86792453,  0.86792453])),\n",
        " ({'C': 10, 'gamma': 0.01, 'kernel': 'poly'},\n",
        "  0.50587961732660114,\n",
        "  array([ 0.50704225,  0.50704225,  0.50471698,  0.50471698])),\n",
        " ({'C': 10, 'gamma': 0.1, 'kernel': 'linear'},\n",
        "  0.80714080077951977,\n",
        "  array([ 0.74647887,  0.79812207,  0.83490566,  0.8490566 ])),\n",
        " ({'C': 10, 'gamma': 0.1, 'kernel': 'sigmoid'},\n",
        "  0.732981220657277,\n",
        "  array([ 0.70892019,  0.72300469,  0.73113208,  0.76886792])),\n",
        " ({'C': 10, 'gamma': 0.1, 'kernel': 'rbf'},\n",
        "  0.84242957746478864,\n",
        "  array([ 0.78403756,  0.83568075,  0.86320755,  0.88679245])),\n",
        " ({'C': 10, 'gamma': 0.1, 'kernel': 'poly'},\n",
        "  0.84359221365931447,\n",
        "  array([ 0.78403756,  0.84976526,  0.86792453,  0.87264151])),\n",
        " ({'C': 100, 'gamma': 0, 'kernel': 'linear'},\n",
        "  0.80949929134555765,\n",
        "  array([ 0.74647887,  0.79812207,  0.84433962,  0.8490566 ])),\n",
        " ({'C': 100, 'gamma': 0, 'kernel': 'sigmoid'},\n",
        "  0.50587961732660114,\n",
        "  array([ 0.50704225,  0.50704225,  0.50471698,  0.50471698])),\n",
        " ({'C': 100, 'gamma': 0, 'kernel': 'rbf'},\n",
        "  0.83184405173177423,\n",
        "  array([ 0.76525822,  0.83098592,  0.85849057,  0.87264151])),\n",
        " ({'C': 100, 'gamma': 0, 'kernel': 'poly'},\n",
        "  0.83419700593498081,\n",
        "  array([ 0.76056338,  0.84037559,  0.88207547,  0.85377358])),\n",
        " ({'C': 100, 'gamma': 0.0001, 'kernel': 'linear'},\n",
        "  0.80949929134555765,\n",
        "  array([ 0.74647887,  0.79812207,  0.84433962,  0.8490566 ])),\n",
        " ({'C': 100, 'gamma': 0.0001, 'kernel': 'sigmoid'},\n",
        "  0.5105689166445212,\n",
        "  array([ 0.51643192,  0.52112676,  0.5       ,  0.50471698])),\n",
        " ({'C': 100, 'gamma': 0.0001, 'kernel': 'rbf'},\n",
        "  0.81181349100894673,\n",
        "  array([ 0.76056338,  0.82159624,  0.82075472,  0.84433962])),\n",
        " ({'C': 100, 'gamma': 0.0001, 'kernel': 'poly'},\n",
        "  0.50587961732660114,\n",
        "  array([ 0.50704225,  0.50704225,  0.50471698,  0.50471698])),\n",
        " ({'C': 100, 'gamma': 0.001, 'kernel': 'linear'},\n",
        "  0.80949929134555765,\n",
        "  array([ 0.74647887,  0.79812207,  0.84433962,  0.8490566 ])),\n",
        " ({'C': 100, 'gamma': 0.001, 'kernel': 'sigmoid'},\n",
        "  0.82712153423686785,\n",
        "  array([ 0.76995305,  0.83098592,  0.8490566 ,  0.85849057])),\n",
        " ({'C': 100, 'gamma': 0.001, 'kernel': 'rbf'},\n",
        "  0.83302329701479316,\n",
        "  array([ 0.76525822,  0.83098592,  0.86792453,  0.86792453])),\n",
        " ({'C': 100, 'gamma': 0.001, 'kernel': 'poly'},\n",
        "  0.50587961732660114,\n",
        "  array([ 0.50704225,  0.50704225,  0.50471698,  0.50471698])),\n",
        " ({'C': 100, 'gamma': 0.01, 'kernel': 'linear'},\n",
        "  0.80949929134555765,\n",
        "  array([ 0.74647887,  0.79812207,  0.84433962,  0.8490566 ])),\n",
        " ({'C': 100, 'gamma': 0.01, 'kernel': 'sigmoid'},\n",
        "  0.82360040747630436,\n",
        "  array([ 0.76056338,  0.82629108,  0.86320755,  0.84433962])),\n",
        " ({'C': 100, 'gamma': 0.01, 'kernel': 'rbf'},\n",
        "  0.82360594383913543,\n",
        "  array([ 0.76525822,  0.81690141,  0.85849057,  0.85377358])),\n",
        " ({'C': 100, 'gamma': 0.01, 'kernel': 'poly'},\n",
        "  0.79651652050668786,\n",
        "  array([ 0.74647887,  0.80751174,  0.81603774,  0.81603774])),\n",
        " ({'C': 100, 'gamma': 0.1, 'kernel': 'linear'},\n",
        "  0.80949929134555765,\n",
        "  array([ 0.74647887,  0.79812207,  0.84433962,  0.8490566 ])),\n",
        " ({'C': 100, 'gamma': 0.1, 'kernel': 'sigmoid'},\n",
        "  0.65294202320843286,\n",
        "  array([ 0.64788732,  0.657277  ,  0.63207547,  0.6745283 ])),\n",
        " ({'C': 100, 'gamma': 0.1, 'kernel': 'rbf'},\n",
        "  0.86122552927628682,\n",
        "  array([ 0.82629108,  0.85446009,  0.89622642,  0.86792453])),\n",
        " ({'C': 100, 'gamma': 0.1, 'kernel': 'poly'},\n",
        "  0.84476592257950212,\n",
        "  array([ 0.81690141,  0.82159624,  0.89150943,  0.8490566 ]))]"
       ]
      }
     ],
     "prompt_number": 16
    },
    {
     "cell_type": "heading",
     "level": 3,
     "metadata": {},
     "source": [
      "Predict"
     ]
    },
    {
     "cell_type": "code",
     "collapsed": false,
     "input": [
      "svc = SVC(C=10, kernel='rbf', gamma=0, probability=False)"
     ],
     "language": "python",
     "metadata": {},
     "outputs": [],
     "prompt_number": 16
    },
    {
     "cell_type": "code",
     "collapsed": false,
     "input": [
      "svc.fit(X_train, y_train)"
     ],
     "language": "python",
     "metadata": {},
     "outputs": [
      {
       "output_type": "pyout",
       "prompt_number": 17,
       "text": [
        "SVC(C=10, cache_size=200, class_weight=None, coef0=0.0, degree=3, gamma=0,\n",
        "  kernel='rbf', max_iter=-1, probability=False, shrinking=True, tol=0.001,\n",
        "  verbose=False)"
       ]
      }
     ],
     "prompt_number": 17
    },
    {
     "cell_type": "code",
     "collapsed": false,
     "input": [
      "(svc.predict(X_test) == y_test).mean()"
     ],
     "language": "python",
     "metadata": {},
     "outputs": [
      {
       "output_type": "pyout",
       "prompt_number": 18,
       "text": [
        "0.87333333333333329"
       ]
      }
     ],
     "prompt_number": 18
    },
    {
     "cell_type": "code",
     "collapsed": false,
     "input": [],
     "language": "python",
     "metadata": {},
     "outputs": []
    }
   ],
   "metadata": {}
  }
 ]
}