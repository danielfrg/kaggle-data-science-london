{
 "metadata": {
  "name": "svm-pca"
 },
 "nbformat": 3,
 "nbformat_minor": 0,
 "worksheets": [
  {
   "cells": [
    {
     "cell_type": "code",
     "collapsed": false,
     "input": [
      "import numpy as np\n",
      "from sklearn.svm import SVC\n",
      "from sklearn.metrics import accuracy_score"
     ],
     "language": "python",
     "metadata": {},
     "outputs": [],
     "prompt_number": 1
    },
    {
     "cell_type": "code",
     "collapsed": false,
     "input": [
      "import pandas as pd\n",
      "X = pd.read_csv('../data/train_inputs.csv', header=None)\n",
      "y = pd.read_csv('../data/train_labels.csv', header=None)\n",
      "X = X.values\n",
      "y = y[0].values"
     ],
     "language": "python",
     "metadata": {},
     "outputs": [],
     "prompt_number": 2
    },
    {
     "cell_type": "code",
     "collapsed": false,
     "input": [
      "from sklearn import cross_validation\n",
      "X_train, X_test, y_train, y_test = cross_validation.train_test_split(X, y, test_size=0.3, random_state=0)"
     ],
     "language": "python",
     "metadata": {},
     "outputs": [],
     "prompt_number": 3
    },
    {
     "cell_type": "code",
     "collapsed": false,
     "input": [
      "clf = SVC(kernel='rbf', C=10, gamma=0.02)"
     ],
     "language": "python",
     "metadata": {},
     "outputs": [],
     "prompt_number": 4
    },
    {
     "cell_type": "code",
     "collapsed": false,
     "input": [
      "clf.fit(X_train, y_train)"
     ],
     "language": "python",
     "metadata": {},
     "outputs": [
      {
       "output_type": "pyout",
       "prompt_number": 5,
       "text": [
        "SVC(C=10, cache_size=200, class_weight=None, coef0=0.0, degree=3, gamma=0.02,\n",
        "  kernel='rbf', max_iter=-1, probability=False, shrinking=True, tol=0.001,\n",
        "  verbose=False)"
       ]
      }
     ],
     "prompt_number": 5
    },
    {
     "cell_type": "code",
     "collapsed": false,
     "input": [
      "accuracy_score(y_test, clf.predict(X_test))"
     ],
     "language": "python",
     "metadata": {},
     "outputs": [
      {
       "output_type": "pyout",
       "prompt_number": 6,
       "text": [
        "0.91333333333333333"
       ]
      }
     ],
     "prompt_number": 6
    },
    {
     "cell_type": "heading",
     "level": 4,
     "metadata": {},
     "source": [
      "PCA"
     ]
    },
    {
     "cell_type": "code",
     "collapsed": false,
     "input": [
      "from sklearn.decomposition import PCA"
     ],
     "language": "python",
     "metadata": {},
     "outputs": [],
     "prompt_number": 7
    },
    {
     "cell_type": "code",
     "collapsed": false,
     "input": [
      "pca = PCA(n_components=12)"
     ],
     "language": "python",
     "metadata": {},
     "outputs": [],
     "prompt_number": 8
    },
    {
     "cell_type": "code",
     "collapsed": false,
     "input": [
      "from copper.ml.wrappers import PCAWrapper"
     ],
     "language": "python",
     "metadata": {},
     "outputs": [],
     "prompt_number": 9
    },
    {
     "cell_type": "code",
     "collapsed": false,
     "input": [
      "wrapper = PCAWrapper(clf, pca)"
     ],
     "language": "python",
     "metadata": {},
     "outputs": [],
     "prompt_number": 10
    },
    {
     "cell_type": "code",
     "collapsed": false,
     "input": [
      "wrapper.fit(X_train, y_train)"
     ],
     "language": "python",
     "metadata": {},
     "outputs": [],
     "prompt_number": 11
    },
    {
     "cell_type": "code",
     "collapsed": false,
     "input": [
      "accuracy_score(y_test, wrapper.predict(X_test))"
     ],
     "language": "python",
     "metadata": {},
     "outputs": [
      {
       "output_type": "pyout",
       "prompt_number": 12,
       "text": [
        "0.92000000000000004"
       ]
      }
     ],
     "prompt_number": 12
    },
    {
     "cell_type": "code",
     "collapsed": false,
     "input": [
      "cross_validation.cross_val_score(wrapper, X, y, cv=5, score_func=accuracy_score)"
     ],
     "language": "python",
     "metadata": {},
     "outputs": [
      {
       "output_type": "pyout",
       "prompt_number": 13,
       "text": [
        "array([ 0.905,  0.905,  0.945,  0.925,  0.925])"
       ]
      }
     ],
     "prompt_number": 13
    },
    {
     "cell_type": "heading",
     "level": 3,
     "metadata": {},
     "source": [
      "Grid"
     ]
    },
    {
     "cell_type": "code",
     "collapsed": false,
     "input": [
      "wrapper = PCAWrapper(clf, pca)"
     ],
     "language": "python",
     "metadata": {},
     "outputs": [],
     "prompt_number": 23
    },
    {
     "cell_type": "code",
     "collapsed": false,
     "input": [
      "from sklearn.grid_search import GridSearchCV"
     ],
     "language": "python",
     "metadata": {},
     "outputs": [],
     "prompt_number": 24
    },
    {
     "cell_type": "code",
     "collapsed": false,
     "input": [
      "param_dist = {\n",
      "\"clf\": [SVC(kernel='rbf', C=1, gamma=0.02), SVC(kernel='rbf', C=10, gamma=0.02), SVC(kernel='rbf', C=100, gamma=0.02),\n",
      "SVC(kernel='rbf', C=1, gamma=0.1)],\n",
      "\"pca\": [PCA(n_components=12), PCA(n_components=15), PCA(n_components=17), PCA(n_components=20), PCA(n_components=25)]\n",
      "}"
     ],
     "language": "python",
     "metadata": {},
     "outputs": [],
     "prompt_number": 25
    },
    {
     "cell_type": "code",
     "collapsed": false,
     "input": [
      "grid_search = GridSearchCV(wrapper, param_grid=param_dist, score_func=accuracy_score, cv=5)"
     ],
     "language": "python",
     "metadata": {},
     "outputs": [],
     "prompt_number": 31
    },
    {
     "cell_type": "code",
     "collapsed": false,
     "input": [
      "grid_search.fit(X, y)"
     ],
     "language": "python",
     "metadata": {},
     "outputs": [
      {
       "output_type": "pyout",
       "prompt_number": 32,
       "text": [
        "GridSearchCV(cv=5,\n",
        "       estimator=PCAWrapper(clf=SVC(C=10, cache_size=200, class_weight=None, coef0=0.0, degree=3, gamma=0.02,\n",
        "  kernel='rbf', max_iter=-1, probability=False, shrinking=True, tol=0.001,\n",
        "  verbose=False),\n",
        "      pca=PCA(copy=True, n_components=12, whiten=False)),\n",
        "       fit_params={}, iid=True, loss_func=None, n_jobs=1,\n",
        "       param_grid={'clf': [SVC(C=1, cache_size=200, class_weight=None, coef0=0.0, degree=3, gamma=0.02,\n",
        "  kernel='rbf', max_iter=-1, probability=False, shrinking=True, tol=0.001,\n",
        "  verbose=False), SVC(C=10, cache_size=200, class_weight=None, coef0=0.0, degree=3, gamma=0.02,\n",
        "  kernel='rbf', max_iter=-1, pro...lse), PCA(copy=True, n_components=20, whiten=False), PCA(copy=True, n_components=25, whiten=False)]},\n",
        "       pre_dispatch='2*n_jobs', refit=True,\n",
        "       score_func=<function accuracy_score at 0x1098ad2a8>, verbose=0)"
       ]
      }
     ],
     "prompt_number": 32
    },
    {
     "cell_type": "code",
     "collapsed": false,
     "input": [
      "grid_search.best_estimator_"
     ],
     "language": "python",
     "metadata": {},
     "outputs": [
      {
       "output_type": "pyout",
       "prompt_number": 34,
       "text": [
        "PCAWrapper(clf=SVC(C=10, cache_size=200, class_weight=None, coef0=0.0, degree=3, gamma=0.02,\n",
        "  kernel='rbf', max_iter=-1, probability=False, shrinking=True, tol=0.001,\n",
        "  verbose=False),\n",
        "      pca=PCA(copy=True, n_components=15, whiten=False))"
       ]
      }
     ],
     "prompt_number": 34
    },
    {
     "cell_type": "code",
     "collapsed": false,
     "input": [
      "param_dist = {\n",
      "\"clf\": [SVC(kernel='rbf', C=10, gamma=0.02), SVC(kernel='poly', C=10, gamma=0.02), SVC(kernel='poly', C=100, gamma=0.02),\n",
      "SVC(kernel='rbf', C=1, gamma=0.1)],\n",
      "\"pca\": [PCA(n_components=12), PCA(n_components=15), PCA(n_components=17), PCA(n_components=20), PCA(n_components=25)]\n",
      "}"
     ],
     "language": "python",
     "metadata": {},
     "outputs": [],
     "prompt_number": 35
    },
    {
     "cell_type": "code",
     "collapsed": false,
     "input": [
      "grid_search.fit(X, y)"
     ],
     "language": "python",
     "metadata": {},
     "outputs": [
      {
       "output_type": "pyout",
       "prompt_number": 36,
       "text": [
        "GridSearchCV(cv=5,\n",
        "       estimator=PCAWrapper(clf=SVC(C=10, cache_size=200, class_weight=None, coef0=0.0, degree=3, gamma=0.02,\n",
        "  kernel='rbf', max_iter=-1, probability=False, shrinking=True, tol=0.001,\n",
        "  verbose=False),\n",
        "      pca=PCA(copy=True, n_components=12, whiten=False)),\n",
        "       fit_params={}, iid=True, loss_func=None, n_jobs=1,\n",
        "       param_grid={'clf': [SVC(C=1, cache_size=200, class_weight=None, coef0=0.0, degree=3, gamma=0.02,\n",
        "  kernel='rbf', max_iter=-1, probability=False, shrinking=True, tol=0.001,\n",
        "  verbose=False), SVC(C=10, cache_size=200, class_weight=None, coef0=0.0, degree=3, gamma=0.02,\n",
        "  kernel='rbf', max_iter=-1, pro...lse), PCA(copy=True, n_components=20, whiten=False), PCA(copy=True, n_components=25, whiten=False)]},\n",
        "       pre_dispatch='2*n_jobs', refit=True,\n",
        "       score_func=<function accuracy_score at 0x1098ad2a8>, verbose=0)"
       ]
      }
     ],
     "prompt_number": 36
    },
    {
     "cell_type": "code",
     "collapsed": false,
     "input": [
      "grid_search.best_params_"
     ],
     "language": "python",
     "metadata": {},
     "outputs": [
      {
       "output_type": "pyout",
       "prompt_number": 39,
       "text": [
        "{'clf': SVC(C=10, cache_size=200, class_weight=None, coef0=0.0, degree=3, gamma=0.02,\n",
        "  kernel='rbf', max_iter=-1, probability=False, shrinking=True, tol=0.001,\n",
        "  verbose=False),\n",
        " 'pca': PCA(copy=True, n_components=15, whiten=False)}"
       ]
      }
     ],
     "prompt_number": 39
    },
    {
     "cell_type": "code",
     "collapsed": false,
     "input": [],
     "language": "python",
     "metadata": {},
     "outputs": []
    }
   ],
   "metadata": {}
  }
 ]
}