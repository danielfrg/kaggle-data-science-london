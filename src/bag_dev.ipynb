{
 "metadata": {
  "name": "bag_dev"
 },
 "nbformat": 3,
 "nbformat_minor": 0,
 "worksheets": [
  {
   "cells": [
    {
     "cell_type": "code",
     "collapsed": false,
     "input": [
      "%load_ext autoreload\n",
      "%autoreload 2\n",
      "import copper\n",
      "copper.project.path = '..'"
     ],
     "language": "python",
     "metadata": {},
     "outputs": [],
     "prompt_number": 1
    },
    {
     "cell_type": "heading",
     "level": 3,
     "metadata": {},
     "source": [
      "All variables all rows"
     ]
    },
    {
     "cell_type": "code",
     "collapsed": false,
     "input": [
      "train = copper.load('train')"
     ],
     "language": "python",
     "metadata": {},
     "outputs": [],
     "prompt_number": 2
    },
    {
     "cell_type": "code",
     "collapsed": false,
     "input": [
      "test = copper.load('train')\n",
      "test.match(train)"
     ],
     "language": "python",
     "metadata": {},
     "outputs": [],
     "prompt_number": 3
    },
    {
     "cell_type": "code",
     "collapsed": false,
     "input": [
      "ml = copper.MachineLearning()"
     ],
     "language": "python",
     "metadata": {},
     "outputs": [],
     "prompt_number": 4
    },
    {
     "cell_type": "code",
     "collapsed": false,
     "input": [
      "random.seed(12345)\n",
      "ml.sample(train, train_size=0.7)"
     ],
     "language": "python",
     "metadata": {},
     "outputs": [],
     "prompt_number": 5
    },
    {
     "cell_type": "code",
     "collapsed": false,
     "input": [
      "from sklearn import svm"
     ],
     "language": "python",
     "metadata": {},
     "outputs": [],
     "prompt_number": 6
    },
    {
     "cell_type": "code",
     "collapsed": false,
     "input": [
      "svm = svm.SVC(kernel='rbf', C=1, probability=True)"
     ],
     "language": "python",
     "metadata": {},
     "outputs": [],
     "prompt_number": 7
    },
    {
     "cell_type": "code",
     "collapsed": false,
     "input": [
      "from sklearn.ensemble import GradientBoostingClassifier"
     ],
     "language": "python",
     "metadata": {},
     "outputs": [],
     "prompt_number": 8
    },
    {
     "cell_type": "code",
     "collapsed": false,
     "input": [
      "gb = GradientBoostingClassifier(max_depth=6)"
     ],
     "language": "python",
     "metadata": {},
     "outputs": [],
     "prompt_number": 9
    },
    {
     "cell_type": "code",
     "collapsed": false,
     "input": [
      "ml.add_clf(svm, 'svm')\n",
      "ml.add_clf(gb, 'gb')"
     ],
     "language": "python",
     "metadata": {},
     "outputs": [],
     "prompt_number": 10
    },
    {
     "cell_type": "code",
     "collapsed": false,
     "input": [
      "ml.fit()"
     ],
     "language": "python",
     "metadata": {},
     "outputs": [],
     "prompt_number": 11
    },
    {
     "cell_type": "code",
     "collapsed": false,
     "input": [
      "ml.accuracy()"
     ],
     "language": "python",
     "metadata": {},
     "outputs": [
      {
       "output_type": "pyout",
       "prompt_number": 12,
       "text": [
        "svm    0.906977\n",
        "gb     0.867110\n",
        "Name: Accuracy"
       ]
      }
     ],
     "prompt_number": 12
    },
    {
     "cell_type": "code",
     "collapsed": false,
     "input": [
      "ml.predict().head()"
     ],
     "language": "python",
     "metadata": {},
     "outputs": [
      {
       "html": [
        "<div style=\"max-height:1000px;max-width:1500px;overflow:auto;\">\n",
        "<table border=\"1\" class=\"dataframe\">\n",
        "  <thead>\n",
        "    <tr style=\"text-align: right;\">\n",
        "      <th></th>\n",
        "      <th>svm</th>\n",
        "      <th>gb</th>\n",
        "    </tr>\n",
        "  </thead>\n",
        "  <tbody>\n",
        "    <tr>\n",
        "      <th>0</th>\n",
        "      <td> 0</td>\n",
        "      <td> 0</td>\n",
        "    </tr>\n",
        "    <tr>\n",
        "      <th>1</th>\n",
        "      <td> 0</td>\n",
        "      <td> 0</td>\n",
        "    </tr>\n",
        "    <tr>\n",
        "      <th>2</th>\n",
        "      <td> 0</td>\n",
        "      <td> 0</td>\n",
        "    </tr>\n",
        "    <tr>\n",
        "      <th>3</th>\n",
        "      <td> 1</td>\n",
        "      <td> 1</td>\n",
        "    </tr>\n",
        "    <tr>\n",
        "      <th>4</th>\n",
        "      <td> 0</td>\n",
        "      <td> 0</td>\n",
        "    </tr>\n",
        "  </tbody>\n",
        "</table>\n",
        "</div>"
       ],
       "output_type": "pyout",
       "prompt_number": 13,
       "text": [
        "   svm  gb\n",
        "0    0   0\n",
        "1    0   0\n",
        "2    0   0\n",
        "3    1   1\n",
        "4    0   0"
       ]
      }
     ],
     "prompt_number": 13
    },
    {
     "cell_type": "code",
     "collapsed": false,
     "input": [
      "probas = ml.predict_proba()"
     ],
     "language": "python",
     "metadata": {},
     "outputs": [
      {
       "output_type": "stream",
       "stream": "stdout",
       "text": [
        "[[-0.93116566 -0.40471355 -1.72078177 -2.00338901  1.84529079  0.22716576\n",
        "   1.90231032  1.42672429  1.48127445 -0.04000353 -1.67814575  0.14606935\n",
        "  -3.18108807 -0.72856349  1.90221594  2.01474954  0.45653575 -2.76078174\n",
        "  -1.56089873 -0.99683231 -0.66726766 -0.2283567  -0.62494999  3.19706466\n",
        "  -0.53338153  2.23979892 -0.06483217  0.08849028 -2.56360613  2.27842989\n",
        "  -0.9685826  -0.28159564 -0.56816831  0.36547103  1.25637843 -0.23452283\n",
        "   4.83654701 -1.20924245 -3.33119033 -3.98062321]\n",
        " [-0.90146525 -1.08548764 -0.67255746  1.14308416  1.46599324  1.23647557\n",
        "   0.99992974  0.46251833 -1.04599105 -0.86783976 -0.59090788 -0.09380392\n",
        "  -3.06704237  0.11334839 -2.18919657 -0.95014437 -1.33320002 -0.06202218\n",
        "   0.02708287  0.67221732  0.33072711  0.16154003  1.76010979  4.47869538\n",
        "   0.85315912  0.22659148  0.42091768  1.44839304 -1.33693254 -1.62488932\n",
        "  -0.56751883 -0.63673895  1.84802708 -0.28519257  2.2691517   0.68870662\n",
        "   3.37840603 -1.76743546 -0.35284748 -2.00792531]\n",
        " [-1.35530763 -1.58111773  0.56005865  1.17770364  0.12772686 -1.45952318\n",
        "   1.77232822 -2.04755164  1.63522173  0.29171572 -0.50922468 -1.58929846\n",
        "  -7.32640064 -0.3171507  -3.17857556  1.19751939 -1.31239834 -0.49950404\n",
        "   3.42843063 -0.25736447 -0.6882468   0.91976263  3.83785949  4.17537488\n",
        "  -0.70027942  0.50865382 -0.47307164  0.23320127 -3.32848565  0.85401195\n",
        "  -0.63351594 -0.41557098  0.46990806 -0.52054166 -2.23258055  0.52091732\n",
        "  -2.45528953  0.16932854 -6.08839754  1.10753717]\n",
        " [-0.5962246  -0.41410149  0.31299023 -0.56164172  6.23162696  0.52242757\n",
        "  -2.30874112 -0.74497255 -0.62423536 -0.16646438 -2.26180568 -1.04666231\n",
        "   0.67310725 -0.2238852   3.54097849 -1.28695795  0.46542433 -1.53013879\n",
        "   0.75261263  0.05731137  0.01801291  0.52543124  2.54663942  4.49174504\n",
        "   2.08932357 -0.73123459  1.90682019  0.36218749  1.35063989 -1.11516305\n",
        "  -1.29198385  1.31046831 -1.24510092  0.47095032 -2.26384463  1.10478803\n",
        "   1.44385738  0.03846432 -1.78651509  2.04826766]\n",
        " [ 1.92373335  1.56739961  0.06975544 -0.20098428  5.54023901  1.11336612\n",
        "  -1.90018841  0.62442958  1.24621438  1.18025297 -0.59451525 -0.91615867\n",
        "  -4.28558078 -0.81400961 -1.56878015 -0.41595664  1.01903904 -0.56072831\n",
        "   1.35516882 -0.6532109   0.53214867 -1.0575266   1.26381252  2.82614065\n",
        "  -1.11390374  1.08123591 -0.45424841 -0.12527423 -1.68002263 -0.03217914\n",
        "   0.23576413 -1.35283318  0.38395014  0.20579848 -3.29861574  0.13839002\n",
        "   2.11788382  0.99403369 -0.45477591  0.58298601]]\n"
       ]
      }
     ],
     "prompt_number": 14
    },
    {
     "cell_type": "code",
     "collapsed": false,
     "input": [
      "probas.head()"
     ],
     "language": "python",
     "metadata": {},
     "outputs": [
      {
       "html": [
        "<div style=\"max-height:1000px;max-width:1500px;overflow:auto;\">\n",
        "<table border=\"1\" class=\"dataframe\">\n",
        "  <thead>\n",
        "    <tr style=\"text-align: right;\">\n",
        "      <th></th>\n",
        "      <th>svm [0]</th>\n",
        "      <th>svm [1]</th>\n",
        "      <th>gb [0]</th>\n",
        "      <th>gb [1]</th>\n",
        "    </tr>\n",
        "  </thead>\n",
        "  <tbody>\n",
        "    <tr>\n",
        "      <th>0</th>\n",
        "      <td> 0.492845</td>\n",
        "      <td> 0.507155</td>\n",
        "      <td> 0.844556</td>\n",
        "      <td> 0.155444</td>\n",
        "    </tr>\n",
        "    <tr>\n",
        "      <th>1</th>\n",
        "      <td> 0.999221</td>\n",
        "      <td> 0.000779</td>\n",
        "      <td> 0.996317</td>\n",
        "      <td> 0.003683</td>\n",
        "    </tr>\n",
        "    <tr>\n",
        "      <th>2</th>\n",
        "      <td> 0.853729</td>\n",
        "      <td> 0.146271</td>\n",
        "      <td> 0.993047</td>\n",
        "      <td> 0.006953</td>\n",
        "    </tr>\n",
        "    <tr>\n",
        "      <th>3</th>\n",
        "      <td> 0.000018</td>\n",
        "      <td> 0.999982</td>\n",
        "      <td> 0.005861</td>\n",
        "      <td> 0.994139</td>\n",
        "    </tr>\n",
        "    <tr>\n",
        "      <th>4</th>\n",
        "      <td> 0.984307</td>\n",
        "      <td> 0.015693</td>\n",
        "      <td> 0.998018</td>\n",
        "      <td> 0.001982</td>\n",
        "    </tr>\n",
        "  </tbody>\n",
        "</table>\n",
        "</div>"
       ],
       "output_type": "pyout",
       "prompt_number": 16,
       "text": [
        "    svm [0]   svm [1]    gb [0]    gb [1]\n",
        "0  0.492845  0.507155  0.844556  0.155444\n",
        "1  0.999221  0.000779  0.996317  0.003683\n",
        "2  0.853729  0.146271  0.993047  0.006953\n",
        "3  0.000018  0.999982  0.005861  0.994139\n",
        "4  0.984307  0.015693  0.998018  0.001982"
       ]
      }
     ],
     "prompt_number": 16
    },
    {
     "cell_type": "code",
     "collapsed": false,
     "input": [
      "bag = copper.utils.ml.AverageBag()"
     ],
     "language": "python",
     "metadata": {},
     "outputs": [],
     "prompt_number": 17
    },
    {
     "cell_type": "code",
     "collapsed": false,
     "input": [
      "bag.add_clf(svm)\n",
      "bag.add_clf(gb)"
     ],
     "language": "python",
     "metadata": {},
     "outputs": [],
     "prompt_number": 18
    },
    {
     "cell_type": "code",
     "collapsed": false,
     "input": [
      "bag.predict_proba(ml.X_test[:5])"
     ],
     "language": "python",
     "metadata": {},
     "outputs": [
      {
       "output_type": "pyout",
       "prompt_number": 31,
       "text": [
        "array([[ 0.66870056,  0.33129944],\n",
        "       [ 0.99776888,  0.00223112],\n",
        "       [ 0.92338789,  0.07661211],\n",
        "       [ 0.00293954,  0.99706046],\n",
        "       [ 0.99116203,  0.00883797]])"
       ]
      }
     ],
     "prompt_number": 31
    },
    {
     "cell_type": "code",
     "collapsed": false,
     "input": [
      "bag.predict(ml.X_test)"
     ],
     "language": "python",
     "metadata": {},
     "outputs": [
      {
       "output_type": "pyout",
       "prompt_number": 33,
       "text": [
        "array([0, 0, 0, 1, 0, 0, 0, 1, 1, 0, 1, 0, 1, 0, 1, 1, 1, 1, 1, 0, 1, 1, 1,\n",
        "       1, 1, 0, 1, 0, 0, 0, 1, 1, 0, 0, 1, 1, 1, 1, 0, 0, 0, 1, 0, 1, 1, 0,\n",
        "       1, 1, 0, 1, 1, 1, 1, 1, 1, 0, 1, 0, 0, 0, 1, 1, 1, 0, 1, 0, 1, 0, 0,\n",
        "       1, 1, 1, 0, 1, 0, 0, 1, 0, 0, 1, 1, 1, 0, 0, 0, 1, 0, 1, 1, 0, 1, 0,\n",
        "       0, 0, 0, 1, 1, 0, 0, 0, 0, 0, 0, 0, 0, 0, 1, 0, 0, 1, 1, 1, 1, 1, 0,\n",
        "       1, 0, 1, 0, 0, 0, 1, 1, 0, 0, 1, 1, 1, 1, 0, 0, 1, 0, 0, 0, 1, 0, 0,\n",
        "       1, 1, 0, 0, 1, 1, 1, 0, 1, 0, 0, 1, 1, 0, 0, 1, 0, 1, 1, 1, 1, 1, 1,\n",
        "       0, 1, 1, 0, 1, 1, 1, 0, 0, 0, 1, 0, 1, 1, 0, 1, 0, 0, 1, 0, 1, 0, 1,\n",
        "       0, 1, 1, 0, 0, 1, 1, 0, 0, 0, 0, 0, 0, 0, 1, 0, 0, 0, 0, 1, 1, 0, 0,\n",
        "       0, 1, 1, 1, 1, 1, 1, 1, 1, 0, 1, 0, 0, 1, 0, 0, 0, 1, 0, 1, 1, 0, 1,\n",
        "       0, 0, 0, 0, 1, 0, 0, 1, 1, 1, 0, 1, 0, 1, 0, 0, 0, 0, 0, 1, 0, 1, 1,\n",
        "       1, 0, 1, 1, 1, 0, 0, 1, 1, 0, 1, 0, 1, 1, 1, 1, 0, 0, 1, 1, 1, 1, 0,\n",
        "       0, 1, 1, 1, 1, 1, 1, 0, 0, 1, 1, 0, 0, 0, 1, 1, 1, 0, 1, 0, 0, 0, 1,\n",
        "       0, 1])"
       ]
      }
     ],
     "prompt_number": 33
    },
    {
     "cell_type": "code",
     "collapsed": false,
     "input": [],
     "language": "python",
     "metadata": {},
     "outputs": []
    }
   ],
   "metadata": {}
  }
 ]
}