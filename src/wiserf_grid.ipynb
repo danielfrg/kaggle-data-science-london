{
 "metadata": {
  "name": "grid_wiserf"
 },
 "nbformat": 3,
 "nbformat_minor": 0,
 "worksheets": [
  {
   "cells": [
    {
     "cell_type": "code",
     "collapsed": false,
     "input": [
      "%load_ext autoreload\n",
      "%autoreload 2\n",
      "import copper\n",
      "copper.project.path = '..'"
     ],
     "language": "python",
     "metadata": {},
     "outputs": [],
     "prompt_number": 4
    },
    {
     "cell_type": "code",
     "collapsed": false,
     "input": [
      "train = copper.load('train_py2')"
     ],
     "language": "python",
     "metadata": {},
     "outputs": [],
     "prompt_number": 5
    },
    {
     "cell_type": "code",
     "collapsed": false,
     "input": [
      "test = copper.load('train_py2')\n",
      "test.match(train)"
     ],
     "language": "python",
     "metadata": {},
     "outputs": [],
     "prompt_number": 6
    },
    {
     "cell_type": "code",
     "collapsed": false,
     "input": [
      "ml = copper.MachineLearning()"
     ],
     "language": "python",
     "metadata": {},
     "outputs": [],
     "prompt_number": 7
    },
    {
     "cell_type": "code",
     "collapsed": false,
     "input": [
      "ml.sample(train, train_size=0.7)"
     ],
     "language": "python",
     "metadata": {},
     "outputs": [],
     "prompt_number": 8
    },
    {
     "cell_type": "code",
     "collapsed": false,
     "input": [
      "from PyWiseRF import WiseRF"
     ],
     "language": "python",
     "metadata": {},
     "outputs": [],
     "prompt_number": 13
    },
    {
     "cell_type": "code",
     "collapsed": false,
     "input": [
      "rf1 = WiseRF(criterion='gini')\n",
      "rf2 = WiseRF(criterion='infogain')\n",
      "rf3 = WiseRF(criterion='gainratio')"
     ],
     "language": "python",
     "metadata": {},
     "outputs": [],
     "prompt_number": 14
    },
    {
     "cell_type": "code",
     "collapsed": false,
     "input": [
      "ml.add_clf(rf1, 'rf gini')\n",
      "ml.add_clf(rf2, 'rf infogain')\n",
      "ml.add_clf(rf3, 'rf gainratio')"
     ],
     "language": "python",
     "metadata": {},
     "outputs": [],
     "prompt_number": 16
    },
    {
     "cell_type": "code",
     "collapsed": false,
     "input": [
      "ml.fit()"
     ],
     "language": "python",
     "metadata": {},
     "outputs": [],
     "prompt_number": 17
    },
    {
     "cell_type": "code",
     "collapsed": false,
     "input": [
      "ml.accuracy()"
     ],
     "language": "python",
     "metadata": {},
     "outputs": [
      {
       "output_type": "pyout",
       "prompt_number": 18,
       "text": [
        "rf infogain     0.790698\n",
        "rf gini         0.774086\n",
        "rf gainratio    0.720930\n",
        "Name: Accuracy"
       ]
      }
     ],
     "prompt_number": 18
    },
    {
     "cell_type": "heading",
     "level": 3,
     "metadata": {},
     "source": [
      "Attempt 2"
     ]
    },
    {
     "cell_type": "code",
     "collapsed": false,
     "input": [
      "ml.clear_clfs()"
     ],
     "language": "python",
     "metadata": {},
     "outputs": [],
     "prompt_number": 19
    },
    {
     "cell_type": "code",
     "collapsed": false,
     "input": [
      "rf1 = WiseRF(criterion='gini', n_estimators=200)\n",
      "rf2 = WiseRF(criterion='infogain', n_estimators=200)\n",
      "rf3 = WiseRF(criterion='gainratio', n_estimators=200)"
     ],
     "language": "python",
     "metadata": {},
     "outputs": [],
     "prompt_number": 29
    },
    {
     "cell_type": "code",
     "collapsed": false,
     "input": [
      "ml.add_clf(rf1, 'rf gini')\n",
      "ml.add_clf(rf2, 'rf infogain')\n",
      "ml.add_clf(rf3, 'rf gainratio')\n",
      "ml.fit()\n",
      "ml.accuracy()"
     ],
     "language": "python",
     "metadata": {},
     "outputs": [
      {
       "output_type": "pyout",
       "prompt_number": 30,
       "text": [
        "rf infogain     0.860465\n",
        "rf gini         0.840532\n",
        "rf gainratio    0.757475\n",
        "Name: Accuracy"
       ]
      }
     ],
     "prompt_number": 30
    },
    {
     "cell_type": "heading",
     "level": 3,
     "metadata": {},
     "source": [
      "Attempt 3"
     ]
    },
    {
     "cell_type": "code",
     "collapsed": false,
     "input": [
      "ml.clear_clfs()"
     ],
     "language": "python",
     "metadata": {},
     "outputs": [],
     "prompt_number": 31
    },
    {
     "cell_type": "code",
     "collapsed": false,
     "input": [
      "rf1 = WiseRF(criterion='gini', n_estimators=200, max_depth=3)\n",
      "rf2 = WiseRF(criterion='gini', n_estimators=200, max_depth=6)\n",
      "rf3 = WiseRF(criterion='gini', n_estimators=200, max_depth=9)\n",
      "rf4 = WiseRF(criterion='gini', n_estimators=200, max_depth=12)\n",
      "rf5 = WiseRF(criterion='gini', n_estimators=200, max_depth=15)"
     ],
     "language": "python",
     "metadata": {},
     "outputs": [],
     "prompt_number": 33
    },
    {
     "cell_type": "code",
     "collapsed": false,
     "input": [
      "ml.add_clfs([rf1, rf2, rf3, rf4, rf5], 'rf')\n",
      "ml.fit()\n",
      "ml.accuracy()"
     ],
     "language": "python",
     "metadata": {},
     "outputs": [
      {
       "output_type": "pyout",
       "prompt_number": 34,
       "text": [
        "rf_2    0.867110\n",
        "rf_4    0.863787\n",
        "rf_3    0.860465\n",
        "rf_1    0.823920\n",
        "rf_0    0.790698\n",
        "Name: Accuracy"
       ]
      }
     ],
     "prompt_number": 34
    },
    {
     "cell_type": "code",
     "collapsed": false,
     "input": [
      "ml.clear_clfs()"
     ],
     "language": "python",
     "metadata": {},
     "outputs": [],
     "prompt_number": 35
    },
    {
     "cell_type": "code",
     "collapsed": false,
     "input": [
      "rf1 = WiseRF(criterion='gini', n_estimators=200, max_depth=4)\n",
      "rf2 = WiseRF(criterion='gini', n_estimators=200, max_depth=5)\n",
      "rf3 = WiseRF(criterion='gini', n_estimators=200, max_depth=6)\n",
      "rf4 = WiseRF(criterion='gini', n_estimators=200, max_depth=7)\n",
      "rf5 = WiseRF(criterion='gini', n_estimators=200, max_depth=8)"
     ],
     "language": "python",
     "metadata": {},
     "outputs": [],
     "prompt_number": 36
    },
    {
     "cell_type": "code",
     "collapsed": false,
     "input": [
      "ml.add_clfs([rf1, rf2, rf3, rf4, rf5], 'rf')\n",
      "ml.fit()\n",
      "ml.accuracy()"
     ],
     "language": "python",
     "metadata": {},
     "outputs": [
      {
       "output_type": "pyout",
       "prompt_number": 37,
       "text": [
        "rf_3    0.857143\n",
        "rf_4    0.840532\n",
        "rf_2    0.840532\n",
        "rf_1    0.840532\n",
        "rf_0    0.800664\n",
        "Name: Accuracy"
       ]
      }
     ],
     "prompt_number": 37
    },
    {
     "cell_type": "code",
     "collapsed": false,
     "input": [],
     "language": "python",
     "metadata": {},
     "outputs": []
    }
   ],
   "metadata": {}
  }
 ]
}