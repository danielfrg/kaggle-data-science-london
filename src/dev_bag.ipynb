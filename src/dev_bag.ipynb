{
 "metadata": {
  "name": "dev_bag"
 },
 "nbformat": 3,
 "nbformat_minor": 0,
 "worksheets": [
  {
   "cells": [
    {
     "cell_type": "code",
     "collapsed": false,
     "input": [
      "%load_ext autoreload\n",
      "%autoreload 2\n",
      "import copper\n",
      "import numpy as np\n",
      "import pandas as pd\n",
      "copper.project.path = '..'\n",
      "plt.rcParams['figure.figsize'] = 10, 7.5"
     ],
     "language": "python",
     "metadata": {},
     "outputs": [],
     "prompt_number": 1
    },
    {
     "cell_type": "code",
     "collapsed": false,
     "input": [
      "from sklearn import svm"
     ],
     "language": "python",
     "metadata": {},
     "outputs": [],
     "prompt_number": 2
    },
    {
     "cell_type": "code",
     "collapsed": false,
     "input": [
      "train = copper.load('train')"
     ],
     "language": "python",
     "metadata": {},
     "outputs": [],
     "prompt_number": 3
    },
    {
     "cell_type": "code",
     "collapsed": false,
     "input": [
      "test = copper.load('test')"
     ],
     "language": "python",
     "metadata": {},
     "outputs": [],
     "prompt_number": 4
    },
    {
     "cell_type": "code",
     "collapsed": false,
     "input": [
      "ml = copper.MachineLearning()"
     ],
     "language": "python",
     "metadata": {},
     "outputs": [],
     "prompt_number": 5
    },
    {
     "cell_type": "code",
     "collapsed": false,
     "input": [
      "ml.train = train"
     ],
     "language": "python",
     "metadata": {},
     "outputs": [],
     "prompt_number": 6
    },
    {
     "cell_type": "code",
     "collapsed": false,
     "input": [
      "ml.sample(train, 0.7)"
     ],
     "language": "python",
     "metadata": {},
     "outputs": [],
     "prompt_number": 7
    },
    {
     "cell_type": "code",
     "collapsed": false,
     "input": [
      "clf = svm.SVC(kernel='rbf', gamma=0.02, C=10, probability=True)"
     ],
     "language": "python",
     "metadata": {},
     "outputs": [],
     "prompt_number": 8
    },
    {
     "cell_type": "code",
     "collapsed": false,
     "input": [
      "clf2 = svm.SVC(kernel='rbf', gamma=1, C=1, probability=True)"
     ],
     "language": "python",
     "metadata": {},
     "outputs": [],
     "prompt_number": 29
    },
    {
     "cell_type": "code",
     "collapsed": false,
     "input": [
      "pca_clf = copper.utils.ml.PCA_wrapper(clf, n_components=13)"
     ],
     "language": "python",
     "metadata": {},
     "outputs": [],
     "prompt_number": 30
    },
    {
     "cell_type": "code",
     "collapsed": false,
     "input": [
      "ml.add_clf(clf, 'svm')\n",
      "ml.add_clf(clf2, 'svm2')"
     ],
     "language": "python",
     "metadata": {},
     "outputs": [],
     "prompt_number": 31
    },
    {
     "cell_type": "code",
     "collapsed": false,
     "input": [
      "ml.add_clf(pca_clf, 'pca_svm')"
     ],
     "language": "python",
     "metadata": {},
     "outputs": [],
     "prompt_number": 32
    },
    {
     "cell_type": "code",
     "collapsed": false,
     "input": [
      "ml.fit()"
     ],
     "language": "python",
     "metadata": {},
     "outputs": [],
     "prompt_number": 33
    },
    {
     "cell_type": "code",
     "collapsed": false,
     "input": [
      "bag = copper.utils.ml.MaxProbaBag()"
     ],
     "language": "python",
     "metadata": {},
     "outputs": [],
     "prompt_number": 34
    },
    {
     "cell_type": "code",
     "collapsed": false,
     "input": [
      "bag.add_clf(ml.clfs)"
     ],
     "language": "python",
     "metadata": {},
     "outputs": [],
     "prompt_number": 35
    },
    {
     "cell_type": "code",
     "collapsed": false,
     "input": [
      "ml.predict_proba(test).head(3).append(ml.predict_proba(test).tail(3))"
     ],
     "language": "python",
     "metadata": {},
     "outputs": [
      {
       "html": [
        "<div style=\"max-height:1000px;max-width:1500px;overflow:auto;\">\n",
        "<table border=\"1\" class=\"dataframe\">\n",
        "  <thead>\n",
        "    <tr style=\"text-align: right;\">\n",
        "      <th></th>\n",
        "      <th>svm [0]</th>\n",
        "      <th>svm [1]</th>\n",
        "      <th>svm2 [0]</th>\n",
        "      <th>svm2 [1]</th>\n",
        "      <th>pca_svm [0]</th>\n",
        "      <th>pca_svm [1]</th>\n",
        "    </tr>\n",
        "  </thead>\n",
        "  <tbody>\n",
        "    <tr>\n",
        "      <th>0   </th>\n",
        "      <td> 0.003300</td>\n",
        "      <td> 0.996700</td>\n",
        "      <td> 0.48702</td>\n",
        "      <td> 0.51298</td>\n",
        "      <td> 0.012968</td>\n",
        "      <td> 0.987032</td>\n",
        "    </tr>\n",
        "    <tr>\n",
        "      <th>1   </th>\n",
        "      <td> 0.948964</td>\n",
        "      <td> 0.051036</td>\n",
        "      <td> 0.48702</td>\n",
        "      <td> 0.51298</td>\n",
        "      <td> 0.989087</td>\n",
        "      <td> 0.010913</td>\n",
        "    </tr>\n",
        "    <tr>\n",
        "      <th>2   </th>\n",
        "      <td> 0.098541</td>\n",
        "      <td> 0.901459</td>\n",
        "      <td> 0.48702</td>\n",
        "      <td> 0.51298</td>\n",
        "      <td> 0.003914</td>\n",
        "      <td> 0.996086</td>\n",
        "    </tr>\n",
        "    <tr>\n",
        "      <th>8997</th>\n",
        "      <td> 0.012531</td>\n",
        "      <td> 0.987469</td>\n",
        "      <td> 0.48702</td>\n",
        "      <td> 0.51298</td>\n",
        "      <td> 0.013269</td>\n",
        "      <td> 0.986731</td>\n",
        "    </tr>\n",
        "    <tr>\n",
        "      <th>8998</th>\n",
        "      <td> 0.997694</td>\n",
        "      <td> 0.002306</td>\n",
        "      <td> 0.48702</td>\n",
        "      <td> 0.51298</td>\n",
        "      <td> 0.991713</td>\n",
        "      <td> 0.008287</td>\n",
        "    </tr>\n",
        "    <tr>\n",
        "      <th>8999</th>\n",
        "      <td> 0.002874</td>\n",
        "      <td> 0.997126</td>\n",
        "      <td> 0.48702</td>\n",
        "      <td> 0.51298</td>\n",
        "      <td> 0.003407</td>\n",
        "      <td> 0.996593</td>\n",
        "    </tr>\n",
        "  </tbody>\n",
        "</table>\n",
        "</div>"
       ],
       "output_type": "pyout",
       "prompt_number": 36,
       "text": [
        "       svm [0]   svm [1]  svm2 [0]  svm2 [1]  pca_svm [0]  pca_svm [1]\n",
        "0     0.003300  0.996700   0.48702   0.51298     0.012968     0.987032\n",
        "1     0.948964  0.051036   0.48702   0.51298     0.989087     0.010913\n",
        "2     0.098541  0.901459   0.48702   0.51298     0.003914     0.996086\n",
        "8997  0.012531  0.987469   0.48702   0.51298     0.013269     0.986731\n",
        "8998  0.997694  0.002306   0.48702   0.51298     0.991713     0.008287\n",
        "8999  0.002874  0.997126   0.48702   0.51298     0.003407     0.996593"
       ]
      }
     ],
     "prompt_number": 36
    },
    {
     "cell_type": "code",
     "collapsed": false,
     "input": [
      "bag.predict(test)"
     ],
     "language": "python",
     "metadata": {},
     "outputs": [
      {
       "output_type": "pyout",
       "prompt_number": 52,
       "text": [
        "array([1, 0, 1, ..., 1, 0, 1])"
       ]
      }
     ],
     "prompt_number": 52
    },
    {
     "cell_type": "code",
     "collapsed": false,
     "input": [],
     "language": "python",
     "metadata": {},
     "outputs": []
    }
   ],
   "metadata": {}
  }
 ]
}